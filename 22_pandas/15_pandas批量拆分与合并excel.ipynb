{
 "cells": [
  {
   "cell_type": "markdown",
   "id": "raising-triumph",
   "metadata": {},
   "source": [
    "### 实例演示:\n",
    "+ 1.将一个大excel等份拆分成多个excel\n",
    "+ 2.将多个小的excel合并成一个大的excel并标记来源"
   ]
  },
  {
   "cell_type": "code",
   "execution_count": 1,
   "id": "paperback-navigation",
   "metadata": {},
   "outputs": [],
   "source": [
    "work_dir = \"./course_datas/c15_excel_split_merge/\"\n",
    "splits_dir = f\"{work_dir}/splits\"\n",
    "\n",
    "import os\n",
    "if not os.path.exists(splits_dir):\n",
    "    os.mkdir(splits_dir)"
   ]
  },
  {
   "cell_type": "markdown",
   "id": "desperate-jefferson",
   "metadata": {},
   "source": [
    "## 0.读取源excel到pandas"
   ]
  },
  {
   "cell_type": "code",
   "execution_count": 2,
   "id": "stock-pathology",
   "metadata": {},
   "outputs": [],
   "source": [
    "import pandas as pd "
   ]
  },
  {
   "cell_type": "code",
   "execution_count": 5,
   "id": "complimentary-protest",
   "metadata": {},
   "outputs": [],
   "source": [
    "df_source = pd.read_excel(f\"{work_dir}/crazyant_blog_articles_source.xlsx\")"
   ]
  },
  {
   "cell_type": "code",
   "execution_count": 6,
   "id": "boolean-pixel",
   "metadata": {},
   "outputs": [
    {
     "data": {
      "text/html": [
       "<div>\n",
       "<style scoped>\n",
       "    .dataframe tbody tr th:only-of-type {\n",
       "        vertical-align: middle;\n",
       "    }\n",
       "\n",
       "    .dataframe tbody tr th {\n",
       "        vertical-align: top;\n",
       "    }\n",
       "\n",
       "    .dataframe thead th {\n",
       "        text-align: right;\n",
       "    }\n",
       "</style>\n",
       "<table border=\"1\" class=\"dataframe\">\n",
       "  <thead>\n",
       "    <tr style=\"text-align: right;\">\n",
       "      <th></th>\n",
       "      <th>id</th>\n",
       "      <th>title</th>\n",
       "      <th>tags</th>\n",
       "    </tr>\n",
       "  </thead>\n",
       "  <tbody>\n",
       "    <tr>\n",
       "      <th>0</th>\n",
       "      <td>2585</td>\n",
       "      <td>Tensorflow怎样接收变长列表特征</td>\n",
       "      <td>python,tensorflow,特征工程</td>\n",
       "    </tr>\n",
       "    <tr>\n",
       "      <th>1</th>\n",
       "      <td>2583</td>\n",
       "      <td>Pandas实现数据的合并concat</td>\n",
       "      <td>pandas,python,数据分析</td>\n",
       "    </tr>\n",
       "    <tr>\n",
       "      <th>2</th>\n",
       "      <td>2574</td>\n",
       "      <td>Pandas的Index索引有什么用途？</td>\n",
       "      <td>pandas,python,数据分析</td>\n",
       "    </tr>\n",
       "    <tr>\n",
       "      <th>3</th>\n",
       "      <td>2564</td>\n",
       "      <td>机器学习常用数据集大全</td>\n",
       "      <td>python,机器学习</td>\n",
       "    </tr>\n",
       "    <tr>\n",
       "      <th>4</th>\n",
       "      <td>2561</td>\n",
       "      <td>一个数据科学家的修炼路径</td>\n",
       "      <td>数据分析</td>\n",
       "    </tr>\n",
       "  </tbody>\n",
       "</table>\n",
       "</div>"
      ],
      "text/plain": [
       "     id                 title                    tags\n",
       "0  2585  Tensorflow怎样接收变长列表特征  python,tensorflow,特征工程\n",
       "1  2583   Pandas实现数据的合并concat      pandas,python,数据分析\n",
       "2  2574  Pandas的Index索引有什么用途？      pandas,python,数据分析\n",
       "3  2564           机器学习常用数据集大全             python,机器学习\n",
       "4  2561          一个数据科学家的修炼路径                    数据分析"
      ]
     },
     "execution_count": 6,
     "metadata": {},
     "output_type": "execute_result"
    }
   ],
   "source": [
    "df_source.head()"
   ]
  },
  {
   "cell_type": "code",
   "execution_count": 7,
   "id": "joined-novel",
   "metadata": {},
   "outputs": [
    {
     "data": {
      "text/plain": [
       "RangeIndex(start=0, stop=258, step=1)"
      ]
     },
     "execution_count": 7,
     "metadata": {},
     "output_type": "execute_result"
    }
   ],
   "source": [
    "df_source.index"
   ]
  },
  {
   "cell_type": "code",
   "execution_count": 8,
   "id": "extraordinary-shoot",
   "metadata": {},
   "outputs": [
    {
     "data": {
      "text/plain": [
       "(258, 3)"
      ]
     },
     "execution_count": 8,
     "metadata": {},
     "output_type": "execute_result"
    }
   ],
   "source": [
    "df_source.shape"
   ]
  },
  {
   "cell_type": "code",
   "execution_count": 9,
   "id": "automated-string",
   "metadata": {},
   "outputs": [],
   "source": [
    "total_row_count = df_source.shape[0]"
   ]
  },
  {
   "cell_type": "code",
   "execution_count": 10,
   "id": "interested-margin",
   "metadata": {},
   "outputs": [
    {
     "data": {
      "text/plain": [
       "258"
      ]
     },
     "execution_count": 10,
     "metadata": {},
     "output_type": "execute_result"
    }
   ],
   "source": [
    "total_row_count"
   ]
  },
  {
   "cell_type": "markdown",
   "id": "comic-sweet",
   "metadata": {},
   "source": [
    "# 一.将一个大excel等份拆成多个excel\n",
    "#### 1.使用df.iloc方法,将一个大的dataframe,拆分成多个小的dataframe\n",
    "#### 2.将使用dataframe.to_excel保存每个小excel"
   ]
  },
  {
   "cell_type": "markdown",
   "id": "varying-respect",
   "metadata": {},
   "source": [
    "## 1.计算拆分后的每个excel的行数"
   ]
  },
  {
   "cell_type": "code",
   "execution_count": 11,
   "id": "future-suggestion",
   "metadata": {},
   "outputs": [],
   "source": [
    "# 将这个大excel拆分给这几个人\n",
    "user_names = [\"xiao_shuai\",\"xiao_huang\",\"xiao_dou\",\"xiao_ya\",\"xiao_jiang\",\"xiao_liu\"]"
   ]
  },
  {
   "cell_type": "code",
   "execution_count": 13,
   "id": "square-fabric",
   "metadata": {},
   "outputs": [
    {
     "data": {
      "text/plain": [
       "43"
      ]
     },
     "execution_count": 13,
     "metadata": {},
     "output_type": "execute_result"
    }
   ],
   "source": [
    "# 每个人的任务数目\n",
    "split_size = total_row_count // len(user_names)\n",
    "if total_row_count % len(user_names) != 0:\n",
    "    split_size += 1\n",
    "    \n",
    "split_size"
   ]
  },
  {
   "cell_type": "markdown",
   "id": "residential-gabriel",
   "metadata": {},
   "source": [
    "## 2.拆分成多个dataframe"
   ]
  },
  {
   "cell_type": "code",
   "execution_count": 15,
   "id": "artistic-error",
   "metadata": {},
   "outputs": [],
   "source": [
    "df_subs = []\n",
    "for index,user_name in enumerate(user_names):\n",
    "    # iloc的开始索引\n",
    "    begin = index * split_size\n",
    "    # iloc的结束索引\n",
    "    end = begin + split_size \n",
    "    # 实现df按照iloc拆分\n",
    "    df_sub  =df_source.iloc[begin:end]\n",
    "    # 将每个子df存入列表\n",
    "    df_subs.append((index,user_name,df_sub))\n",
    "    "
   ]
  },
  {
   "cell_type": "markdown",
   "id": "amber-might",
   "metadata": {},
   "source": [
    "## 3.将每个dataframe存入excel"
   ]
  },
  {
   "cell_type": "code",
   "execution_count": 17,
   "id": "fewer-aberdeen",
   "metadata": {},
   "outputs": [],
   "source": [
    "for index ,user_name,df_sub in df_subs:\n",
    "    file_name = f\"{splits_dir}/crazyant_blog_articles_{index}_{user_name}.xlsx\"\n",
    "    df_sub.to_excel(file_name,index=False)"
   ]
  },
  {
   "cell_type": "code",
   "execution_count": null,
   "id": "macro-maximum",
   "metadata": {},
   "outputs": [],
   "source": []
  },
  {
   "cell_type": "markdown",
   "id": "entitled-athletics",
   "metadata": {},
   "source": [
    "# 二.合并多个小excel到一个大excel"
   ]
  },
  {
   "cell_type": "markdown",
   "id": "logical-winner",
   "metadata": {},
   "source": [
    "##  1.遍历文件夹,得到要合并的excel名称列表"
   ]
  },
  {
   "cell_type": "code",
   "execution_count": 18,
   "id": "broke-utilization",
   "metadata": {},
   "outputs": [
    {
     "data": {
      "text/plain": [
       "['crazyant_blog_articles_0_xiao_shuai.xlsx',\n",
       " 'crazyant_blog_articles_1_xiao_huang.xlsx',\n",
       " 'crazyant_blog_articles_2_xiao_dou.xlsx',\n",
       " 'crazyant_blog_articles_3_xiao_ya.xlsx',\n",
       " 'crazyant_blog_articles_4_xiao_jiang.xlsx',\n",
       " 'crazyant_blog_articles_5_xiao_liu.xlsx']"
      ]
     },
     "execution_count": 18,
     "metadata": {},
     "output_type": "execute_result"
    }
   ],
   "source": [
    "import os \n",
    "excel_names = []\n",
    "for excel_name in os.listdir(splits_dir):\n",
    "    excel_names.append(excel_name)\n",
    "excel_names"
   ]
  },
  {
   "cell_type": "markdown",
   "id": "motivated-failure",
   "metadata": {},
   "source": [
    "## 2.分别读取到dataframe"
   ]
  },
  {
   "cell_type": "code",
   "execution_count": 23,
   "id": "indoor-preference",
   "metadata": {},
   "outputs": [
    {
     "name": "stdout",
     "output_type": "stream",
     "text": [
      "xiao_shuai\n",
      "xiao_huang\n",
      "xiao_dou\n",
      "xiao_ya\n",
      "xiao_jiang\n",
      "xiao_liu\n"
     ]
    }
   ],
   "source": [
    "df_list = []\n",
    "\n",
    "for excel_name in excel_names:\n",
    "    # 读取每个excel到df\n",
    "    excel_path = f\"{splits_dir}/{excel_name}\"\n",
    "    df_split = pd.read_excel(excel_path)\n",
    "    # 得到username\n",
    "    username = excel_name.replace(\"crazyant_blog_articles_\",\"\").replace(\".xlsx\",\"\")[2:]\n",
    "    print(username)\n",
    "    # 给每个df添加一列,即用户名字\n",
    "    df_split[\"username\"] = username\n",
    "    df_list.append(df_split)"
   ]
  },
  {
   "cell_type": "markdown",
   "id": "studied-silly",
   "metadata": {},
   "source": [
    "## 3.使用pd.concat进行合并"
   ]
  },
  {
   "cell_type": "code",
   "execution_count": 24,
   "id": "considered-houston",
   "metadata": {},
   "outputs": [],
   "source": [
    "df_merged = pd.concat(df_list)"
   ]
  },
  {
   "cell_type": "code",
   "execution_count": 25,
   "id": "processed-clinton",
   "metadata": {},
   "outputs": [
    {
     "data": {
      "text/plain": [
       "(258, 4)"
      ]
     },
     "execution_count": 25,
     "metadata": {},
     "output_type": "execute_result"
    }
   ],
   "source": [
    "df_merged.shape"
   ]
  },
  {
   "cell_type": "code",
   "execution_count": 26,
   "id": "related-budget",
   "metadata": {},
   "outputs": [
    {
     "data": {
      "text/html": [
       "<div>\n",
       "<style scoped>\n",
       "    .dataframe tbody tr th:only-of-type {\n",
       "        vertical-align: middle;\n",
       "    }\n",
       "\n",
       "    .dataframe tbody tr th {\n",
       "        vertical-align: top;\n",
       "    }\n",
       "\n",
       "    .dataframe thead th {\n",
       "        text-align: right;\n",
       "    }\n",
       "</style>\n",
       "<table border=\"1\" class=\"dataframe\">\n",
       "  <thead>\n",
       "    <tr style=\"text-align: right;\">\n",
       "      <th></th>\n",
       "      <th>id</th>\n",
       "      <th>title</th>\n",
       "      <th>tags</th>\n",
       "      <th>username</th>\n",
       "    </tr>\n",
       "  </thead>\n",
       "  <tbody>\n",
       "    <tr>\n",
       "      <th>0</th>\n",
       "      <td>2585</td>\n",
       "      <td>Tensorflow怎样接收变长列表特征</td>\n",
       "      <td>python,tensorflow,特征工程</td>\n",
       "      <td>xiao_shuai</td>\n",
       "    </tr>\n",
       "    <tr>\n",
       "      <th>1</th>\n",
       "      <td>2583</td>\n",
       "      <td>Pandas实现数据的合并concat</td>\n",
       "      <td>pandas,python,数据分析</td>\n",
       "      <td>xiao_shuai</td>\n",
       "    </tr>\n",
       "    <tr>\n",
       "      <th>2</th>\n",
       "      <td>2574</td>\n",
       "      <td>Pandas的Index索引有什么用途？</td>\n",
       "      <td>pandas,python,数据分析</td>\n",
       "      <td>xiao_shuai</td>\n",
       "    </tr>\n",
       "    <tr>\n",
       "      <th>3</th>\n",
       "      <td>2564</td>\n",
       "      <td>机器学习常用数据集大全</td>\n",
       "      <td>python,机器学习</td>\n",
       "      <td>xiao_shuai</td>\n",
       "    </tr>\n",
       "    <tr>\n",
       "      <th>4</th>\n",
       "      <td>2561</td>\n",
       "      <td>一个数据科学家的修炼路径</td>\n",
       "      <td>数据分析</td>\n",
       "      <td>xiao_shuai</td>\n",
       "    </tr>\n",
       "  </tbody>\n",
       "</table>\n",
       "</div>"
      ],
      "text/plain": [
       "     id                 title                    tags    username\n",
       "0  2585  Tensorflow怎样接收变长列表特征  python,tensorflow,特征工程  xiao_shuai\n",
       "1  2583   Pandas实现数据的合并concat      pandas,python,数据分析  xiao_shuai\n",
       "2  2574  Pandas的Index索引有什么用途？      pandas,python,数据分析  xiao_shuai\n",
       "3  2564           机器学习常用数据集大全             python,机器学习  xiao_shuai\n",
       "4  2561          一个数据科学家的修炼路径                    数据分析  xiao_shuai"
      ]
     },
     "execution_count": 26,
     "metadata": {},
     "output_type": "execute_result"
    }
   ],
   "source": [
    "df_merged.head()"
   ]
  },
  {
   "cell_type": "code",
   "execution_count": 27,
   "id": "technological-broadcasting",
   "metadata": {},
   "outputs": [
    {
     "data": {
      "text/plain": [
       "xiao_jiang    43\n",
       "xiao_liu      43\n",
       "xiao_ya       43\n",
       "xiao_shuai    43\n",
       "xiao_dou      43\n",
       "xiao_huang    43\n",
       "Name: username, dtype: int64"
      ]
     },
     "execution_count": 27,
     "metadata": {},
     "output_type": "execute_result"
    }
   ],
   "source": [
    "df_merged[\"username\"].value_counts()"
   ]
  },
  {
   "cell_type": "markdown",
   "id": "demonstrated-tenant",
   "metadata": {},
   "source": [
    "##  4.将合并后的dataframe输出到excel"
   ]
  },
  {
   "cell_type": "code",
   "execution_count": 28,
   "id": "abroad-mathematics",
   "metadata": {},
   "outputs": [],
   "source": [
    "df_merged.to_excel(f\"{work_dir}/blog_merged.xlsx\",index=False)"
   ]
  },
  {
   "cell_type": "code",
   "execution_count": null,
   "id": "processed-nebraska",
   "metadata": {},
   "outputs": [],
   "source": []
  }
 ],
 "metadata": {
  "kernelspec": {
   "display_name": "Python 3",
   "language": "python",
   "name": "python3"
  },
  "language_info": {
   "codemirror_mode": {
    "name": "ipython",
    "version": 3
   },
   "file_extension": ".py",
   "mimetype": "text/x-python",
   "name": "python",
   "nbconvert_exporter": "python",
   "pygments_lexer": "ipython3",
   "version": "3.8.8"
  }
 },
 "nbformat": 4,
 "nbformat_minor": 5
}
